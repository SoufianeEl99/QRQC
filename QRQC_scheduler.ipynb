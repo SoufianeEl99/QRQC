{
  "nbformat": 4,
  "nbformat_minor": 0,
  "metadata": {
    "colab": {
      "provenance": []
    },
    "kernelspec": {
      "name": "python3",
      "display_name": "Python 3"
    },
    "language_info": {
      "name": "python"
    }
  },
  "cells": [
    {
      "cell_type": "code",
      "execution_count": 1,
      "metadata": {
        "colab": {
          "base_uri": "https://localhost:8080/"
        },
        "id": "-J4elqRHrSCy",
        "outputId": "8e0710ac-7229-47eb-bf41-68e0d06a9056"
      },
      "outputs": [
        {
          "output_type": "stream",
          "name": "stdout",
          "text": [
            "it Works\n"
          ]
        }
      ],
      "source": [
        "print('it Works')"
      ]
    },
    {
      "cell_type": "code",
      "source": [],
      "metadata": {
        "id": "D32elN3LredZ"
      },
      "execution_count": null,
      "outputs": []
    }
  ]
}